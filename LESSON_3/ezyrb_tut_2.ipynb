{
 "cells": [
  {
   "cell_type": "markdown",
   "id": "43a48f08",
   "metadata": {
    "toc": true
   },
   "source": [
    "<h1>Table of Contents<span class=\"tocSkip\"></span></h1>\n",
    "<div class=\"toc\"><ul class=\"toc-item\"><li><span><a href=\"#EZyRB-Tutorial-2\" data-toc-modified-id=\"EZyRB-Tutorial-2-1\">EZyRB Tutorial 2</a></span><ul class=\"toc-item\"><li><span><a href=\"#Test-several-frameworks-at-once\" data-toc-modified-id=\"Test-several-frameworks-at-once-1.1\">Test several frameworks at once</a></span><ul class=\"toc-item\"><li><span><a href=\"#Initial-setting\" data-toc-modified-id=\"Initial-setting-1.1.1\">Initial setting</a></span></li><li><span><a href=\"#Comparison-between-different-methods\" data-toc-modified-id=\"Comparison-between-different-methods-1.1.2\">Comparison between different methods</a></span></li></ul></li></ul></li></ul></div>"
   ]
  },
  {
   "cell_type": "markdown",
   "id": "b0c39fb4",
   "metadata": {},
   "source": [
    "# EZyRB Tutorial 2\n",
    "## Test several frameworks at once\n",
    "\n",
    "In this tutorial, we will explain step by step how to use the **EZyRB** library to test different techniques for building the reduced order model. We will compare different methods of dimensionality reduction, interpolation and accuracy assessment.\n",
    "\n",
    "We consider here a computational fluid dynamics problem described by the (incompressible) Navier Stokes equations.\n",
    "We will be using the **Navier Stokes Dataset** that contains the output data from a full order flow simulation and can be found on **GitHub** under [Smithers library](https://github.com/mathLab/Smithers).\n",
    "**Smithers** is developed by **SISSA mathlab** and it contains some useful datasets and a multi-purpose toolbox that inherits functionality from other packages to make the process of dealing with these datasets much easier with more compact coding.\n",
    "\n",
    "The package can be installed using `python -m pip install smithers -U`, but for a detailed description about installation and usage we refer to original [Github page](https://github.com/mathLab/Smithers/blob/master/README.md).\n",
    "\n",
    "First of all, we just import the package and instantiate the dataset object."
   ]
  },
  {
   "cell_type": "code",
   "execution_count": null,
   "id": "3c9d06cc",
   "metadata": {},
   "outputs": [],
   "source": [
    "!pip install git+https://github.com/mathLab/smithers.git\n",
    "!pip install git+https://github.com/mathLab/EZyRB"
   ]
  },
  {
   "cell_type": "code",
   "execution_count": null,
   "id": "2b772df3",
   "metadata": {},
   "outputs": [],
   "source": [
    "from smithers.dataset import NavierStokesDataset\n",
    "data = NavierStokesDataset()"
   ]
  },
  {
   "cell_type": "markdown",
   "id": "26eba516",
   "metadata": {},
   "source": [
    "The `NavierStokesDataset()` class contains the attribute:\n",
    "- `snapshots`: the matrices of snapshots stored by row (one matrix for any output field)\n",
    "- `params`: the matrix of corresponding parameters\n",
    "- `pts_coordinates`: the coordinates of all nodes of the discretize space\n",
    "- `faces`: the actual topology of the discretize space\n",
    "- `triang`: the triangulation, useful especially for rendering purposes.\n",
    "\n",
    "In the details, `data.snapshots` is a dictionary with the following output of interest:\n",
    "- **vx:** velocity in the X-direction. \n",
    "- **vy:** velocity in the Y-direction. \n",
    "- **mag(v):** velocity magnitude.\n",
    "- **p:** pressure value.\n",
    "\n",
    "In total, the dataset contains 500 parametric configurations in a space of 1639 degrees of freedom. In this case, we have just one parameter, which is the velocity (along $x$) we impose at the inlet."
   ]
  },
  {
   "cell_type": "code",
   "execution_count": null,
   "id": "b8d8c9b8",
   "metadata": {},
   "outputs": [],
   "source": [
    "for name in ['vx', 'vy', 'p', 'mag(v)']:\n",
    "    print('Shape of {:7s} snapshots matrix: {}'.format(name, data.snapshots[name].shape))\n",
    "    \n",
    "print('Shape of parameters matrix: {}'.format(data.params.shape))\n"
   ]
  },
  {
   "cell_type": "markdown",
   "id": "e796343a",
   "metadata": {},
   "source": [
    "### Initial setting\n",
    "\n",
    "First of all, we import the required packages.\n",
    "\n",
    "From `EZyRB` we need:\n",
    "1. The `ROM` class, which performs the model order reduction process.\n",
    "2. A module such as `Database`, where the matrices of snapshots and parameters are stored. \n",
    "3. A dimensionality reduction method such as Proper Orthogonal Decomposition `POD` or Auto-Encoder network `AE`.\n",
    "4. An interpolation method to obtain an approximation for the parametric solution for a new set of parameters such as the Radial Basis Function `RBF`, Gaussian Process Regression `GPR`,  K-Neighbors Regressor `KNeighborsRegressor`,  Radius Neighbors Regressor `RadiusNeighborsRegressor` or Multidimensional Linear Interpolator `Linear`.\n",
    "\n",
    "We also need to import:\n",
    "* `numpy:` to handle arrays and matrices we will be working with.\n",
    "* `torch:` to enable the usage of Neural Networks\n",
    "* `matplotlib.pyplot:` to handle the plotting environment. \n",
    "* `matplotlib.tri:` for plotting of the triangular grid."
   ]
  },
  {
   "cell_type": "code",
   "execution_count": null,
   "id": "533010c9",
   "metadata": {},
   "outputs": [],
   "source": [
    "# Database module\n",
    "from ezyrb import Database\n",
    "\n",
    "# Dimensionality reduction methods\n",
    "from ezyrb import POD, AE\n",
    "\n",
    "# Approximation/interpolation methods\n",
    "from ezyrb import RBF, GPR, KNeighborsRegressor, RadiusNeighborsRegressor, Linear, ANN\n",
    "\n",
    "# Model order reduction calss\n",
    "from ezyrb import ReducedOrderModel as ROM\n",
    "\n",
    "import numpy as np\n",
    "import torch\n",
    "import torch.nn as nn\n",
    "\n",
    "import matplotlib.tri as mtri\n",
    "import matplotlib.pyplot as plt\n",
    "\n",
    "import warnings\n",
    "warnings.filterwarnings(\"ignore\", message=\"Ill-conditioned matrix \")"
   ]
  },
  {
   "cell_type": "markdown",
   "id": "1004e3f8",
   "metadata": {},
   "source": [
    "Before starting with the reduced order model, we visualize some of the snapshots in our dataset."
   ]
  },
  {
   "cell_type": "code",
   "execution_count": null,
   "id": "95b5d41e",
   "metadata": {
    "scrolled": false
   },
   "outputs": [],
   "source": [
    "fig, ax = plt.subplots(nrows=3, ncols=3, figsize=(16, 8), sharey=True, sharex=True)\n",
    "ax = ax.flatten()\n",
    "for i in range(9):\n",
    "    ax[i].tricontourf(data.triang, data.snapshots['vx'][i], levels=16)\n",
    "    ax[i].set_title('Original snapshot at inlet velocity = {}'.format(*data.params[i].round(2)))"
   ]
  },
  {
   "cell_type": "markdown",
   "id": "8eaf8f0a",
   "metadata": {},
   "source": [
    "In this step, we perform the model order reduction to obtain a reduced space from the full order space. We refer to [Tutorial 1](https://github.com/mathLab/EZyRB/blob/master/tutorials/tutorial-1.ipynb) for the description of the basic workflow, here we just quickly describe the steps implemented in the next cell.\n",
    "\n",
    "We start by passing the matrices of the parameters and snapshots to the `Database()` class. It must be said that at this time we create the ROM for the `vx` field. We also instantiate the `POD` and `RBF` object to have a benchmark ROM."
   ]
  },
  {
   "cell_type": "code",
   "execution_count": null,
   "id": "4d34d552",
   "metadata": {},
   "outputs": [],
   "source": [
    "db = Database(data.params, data.snapshots['vx'])\n",
    "rom = ROM(db, POD(), RBF())\n",
    "rom.fit();"
   ]
  },
  {
   "cell_type": "markdown",
   "id": "ebfae4bf",
   "metadata": {},
   "source": [
    "Three lines for a data-driven reduced order model, not bad!\n",
    "\n",
    "Just to have a visual check that everything is going well, we plot the approximation for new parameters in the range $[1, 80]$."
   ]
  },
  {
   "cell_type": "code",
   "execution_count": null,
   "id": "5fcfaef2",
   "metadata": {},
   "outputs": [],
   "source": [
    "new_params = np.random.uniform(size=(2))*79.+1.\n",
    "\n",
    "fig, ax = plt.subplots(nrows=1, ncols=2, figsize=(16, 3))\n",
    "for i, param in enumerate(new_params):\n",
    "    ax[i].tricontourf(data.triang, *rom.predict([param]).snapshots_matrix)\n",
    "    ax[i].set_title('Predicted snapshots at inlet velocity = {}'.format(param))"
   ]
  },
  {
   "cell_type": "markdown",
   "id": "7b7be444",
   "metadata": {},
   "source": [
    "We are now calculating the approximation error to see how close is our reduced solution to the full-order solution/simulation using the **k-fold Cross-Validation** strategy by passing the number of splits to the `ReducedOrderModel.kfold_cv_error(n_splits)` method, which operates as follows: \n",
    "\n",
    "1. Split the dataset (parameters/snapshots) into $k$-number of groups/folds.\n",
    "2. Use $k-1$ groups to calculate the reduced space and leave one group for testing.\n",
    "3. Use the approximation/interpolation method to predict each snapshot in the testing group.\n",
    "4. Calculate the error for each snapshot in the testing group by taking the difference between the predicted and the original snapshot. \n",
    "5. Average the errors for predicting snapshots of the testing group/fold.\n",
    "6. Repeat this procedure using different groups for testing and the remaining $k-1$ groups to calculate the reduced space.\n",
    "7. In the end, we will have $k$-number errors for predicting each group/fold that we can average them to have one value for the error."
   ]
  },
  {
   "cell_type": "code",
   "execution_count": null,
   "id": "f9f4483c",
   "metadata": {},
   "outputs": [],
   "source": [
    "errors = rom.kfold_cv_error(n_splits = 5)\n",
    "print('Average error for each fold:')\n",
    "for e in errors:\n",
    "    print('  ',e)\n",
    "print('\\nAverage error = {}'.format(errors.mean()))"
   ]
  },
  {
   "cell_type": "markdown",
   "id": "bfa43316",
   "metadata": {},
   "source": [
    "Another strategy for calculating the approximation error is called **leave-one-out** by using the  `ReducedOrderModel.loo_error()` method, which is similar to setting the number of folds equal to the number of snapshots (eg. in this case setting `n_splits` = 500) and it operates as follows:\n",
    "1. Combine all the snapshots except one.\n",
    "2. Calculate the reduced space.\n",
    "3. Use the approximation/interpolation method to predict the removed snapshot.\n",
    "4. Calculate the error by taking the difference between the predicted snapshot and the original removed one.\n",
    "5. The error vector is obtained by repeating this procedure for each snapshot in the database.\n",
    "\n",
    "It is worth mentioning that it consumes more time because we have 500 snapshots and the algorithm will perform space order reduction and calculate the approximation error 500 times. For this reason, we commented the next line of code, in order to limit the computational effort needed to run this tutorial. Uncomment it only if you are a really brave person!"
   ]
  },
  {
   "cell_type": "code",
   "execution_count": null,
   "id": "df343c05",
   "metadata": {},
   "outputs": [],
   "source": [
    "# errors = rom.loo_error()"
   ]
  },
  {
   "cell_type": "markdown",
   "id": "945a52e3",
   "metadata": {},
   "source": [
    "### Comparison between different methods\n",
    "\n",
    "One of the advantages of the data-driven reduced order modeling is the modular nature of the method. Practically speaking, we need\n",
    "- a method for reducing the dimensionality of input snapshots;\n",
    "- a method for approximate the solution manifold;\n",
    "\n",
    "allowing in principle a large variety of combinations.\n",
    "\n",
    "The list of implemented **reduction methods** in EZyRB contains: \n",
    "- `POD`: *proper orthogonal decomposition*\n",
    "- `AE`: *autoencoder*\n",
    "\n",
    "while the list of implemented **approximation methods** contains:\n",
    "- `RBF`: *radial basis function interpolation*\n",
    "- `GPR`: *gaussian process regression*\n",
    "- `KNeighborsRegressor`: *k-neighbors regression*\n",
    "- `RadiusNeighborsRegressor`: *radius neighbors regression*\n",
    "- `Linear`: *multidimensional linear interpolation*\n",
    "\n",
    "Moreover, new state-of-the-art methods will arrive, so we invite you to read the [documentation](https://mathlab.github.io/EZyRB/) for the complete list of all the possibilities!\n",
    "\n",
    "In the next cell, we create two dictionaries with the objects, such that we can easily test everything with simple `for` cycles. **WARNING** since several methods require the solution of an optimization problem (eg. GPR, ANN, AE), the cell may require some minutes to be run."
   ]
  },
  {
   "cell_type": "code",
   "execution_count": null,
   "id": "2760dcea",
   "metadata": {},
   "outputs": [],
   "source": [
    "reductions = {\n",
    "    'POD': POD('svd',rank=10),\n",
    "    'AE': AE([200, 100, 10], [10, 100, 200], nn.Tanh(), nn.Tanh(), 10),\n",
    "}\n",
    "\n",
    "approximations = {\n",
    "#    'Linear': Linear(),\n",
    "    'RBF': RBF(),\n",
    "    'GPR': GPR(),\n",
    "    'KNeighbors': KNeighborsRegressor(),\n",
    "    'RadiusNeighbors':  RadiusNeighborsRegressor(),\n",
    "    'ANN': ANN([20, 20], nn.Tanh(), 10),\n",
    "}\n",
    "\n",
    "header = '{:10s}'.format('')\n",
    "for name in approximations:\n",
    "    header += ' {:>15s}'.format(name)\n",
    "\n",
    "print(header)\n",
    "for redname, redclass in reductions.items():\n",
    "    row = '{:10s}'.format(redname)    \n",
    "    for approxname, approxclass in approximations.items():\n",
    "        rom = ROM(db, redclass, approxclass)\n",
    "        rom.fit()\n",
    "        row += ' {:15e}'.format(rom.kfold_cv_error(n_splits=5).mean())\n",
    "    \n",
    "    print(row)\n"
   ]
  },
  {
   "cell_type": "markdown",
   "id": "5d055510",
   "metadata": {},
   "source": [
    "In a very compact way, we tested several frameworks - like POD-RBF, POD-GPR, POD-NN -, showing the accuracy reached by any of them.\n",
    "\n",
    "We can also note that the frameworks that involve neural networks (`AE` and `ANN`) show a very poor precision. This is due to the fact of the limited number of epochs we impose in the learning procedure. You can try to increase the number of epochs as we shown in the next cell in order to obtain better results, at the cost of a longer training phase."
   ]
  },
  {
   "cell_type": "code",
   "execution_count": null,
   "id": "a5353ea6",
   "metadata": {},
   "outputs": [],
   "source": [
    "reductions['AE'] = AE([100, 10], [10, 100], nn.ReLU(), nn.ReLU(), 30000)\n",
    "approximations['ANN'] = ANN([50, 10], nn.ReLU(), 30000)"
   ]
  }
 ],
 "metadata": {
  "hide_input": false,
  "kernelspec": {
   "display_name": "base",
   "language": "python",
   "name": "python3"
  },
  "language_info": {
   "codemirror_mode": {
    "name": "ipython",
    "version": 3
   },
   "file_extension": ".py",
   "mimetype": "text/x-python",
   "name": "python",
   "nbconvert_exporter": "python",
   "pygments_lexer": "ipython3",
   "version": "3.12.2"
  },
  "latex_envs": {
   "LaTeX_envs_menu_present": true,
   "autoclose": false,
   "autocomplete": true,
   "bibliofile": "biblio.bib",
   "cite_by": "apalike",
   "current_citInitial": 1,
   "eqLabelWithNumbers": true,
   "eqNumInitial": 1,
   "hotkeys": {
    "equation": "Ctrl-E",
    "itemize": "Ctrl-I"
   },
   "labels_anchors": false,
   "latex_user_defs": false,
   "report_style_numbering": false,
   "user_envs_cfg": false
  },
  "toc": {
   "base_numbering": "1",
   "nav_menu": {},
   "number_sections": false,
   "sideBar": true,
   "skip_h1_title": false,
   "title_cell": "Table of Contents",
   "title_sidebar": "Contents",
   "toc_cell": true,
   "toc_position": {
    "height": "533.6px",
    "left": "27px",
    "top": "111.125px",
    "width": "383.938px"
   },
   "toc_section_display": true,
   "toc_window_display": true
  },
  "varInspector": {
   "cols": {
    "lenName": 16,
    "lenType": 16,
    "lenVar": 40
   },
   "kernels_config": {
    "python": {
     "delete_cmd_postfix": "",
     "delete_cmd_prefix": "del ",
     "library": "var_list.py",
     "varRefreshCmd": "print(var_dic_list())"
    },
    "r": {
     "delete_cmd_postfix": ") ",
     "delete_cmd_prefix": "rm(",
     "library": "var_list.r",
     "varRefreshCmd": "cat(var_dic_list()) "
    }
   },
   "position": {
    "height": "305.844px",
    "left": "1553px",
    "right": "20px",
    "top": "120px",
    "width": "347px"
   },
   "types_to_exclude": [
    "module",
    "function",
    "builtin_function_or_method",
    "instance",
    "_Feature"
   ],
   "window_display": false
  }
 },
 "nbformat": 4,
 "nbformat_minor": 5
}
