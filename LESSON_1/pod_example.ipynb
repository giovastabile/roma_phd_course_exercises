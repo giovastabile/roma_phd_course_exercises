{
 "cells": [
  {
   "cell_type": "code",
   "execution_count": 4,
   "metadata": {},
   "outputs": [
    {
     "name": "stdout",
     "output_type": "stream",
     "text": [
      "Collecting git+https://github.com/mathLab/EZyRB\n",
      "  Cloning https://github.com/mathLab/EZyRB to /tmp/pip-req-build-vkgwf589\n",
      "  Running command git clone --filter=blob:none --quiet https://github.com/mathLab/EZyRB /tmp/pip-req-build-vkgwf589\n",
      "  Resolved https://github.com/mathLab/EZyRB to commit 677794b607c6c23ec33d504d9a82eaa67a28eb73\n",
      "  Preparing metadata (setup.py) ... \u001b[?25ldone\n",
      "\u001b[?25hRequirement already satisfied: future in /home/giova/miniconda3/envs/3.10/lib/python3.10/site-packages (from ezyrb==1.3.0) (0.18.3)\n",
      "Requirement already satisfied: numpy in /home/giova/miniconda3/envs/3.10/lib/python3.10/site-packages (from ezyrb==1.3.0) (1.25.2)\n",
      "Requirement already satisfied: scipy in /home/giova/.local/lib/python3.10/site-packages (from ezyrb==1.3.0) (1.9.3)\n",
      "Requirement already satisfied: matplotlib in /home/giova/.local/lib/python3.10/site-packages (from ezyrb==1.3.0) (3.6.2)\n",
      "Requirement already satisfied: scikit-learn>=1.0 in /home/giova/.local/lib/python3.10/site-packages (from ezyrb==1.3.0) (1.1.3)\n",
      "Requirement already satisfied: torch in /home/giova/.local/lib/python3.10/site-packages (from ezyrb==1.3.0) (2.0.0)\n",
      "Requirement already satisfied: joblib>=1.0.0 in /home/giova/.local/lib/python3.10/site-packages (from scikit-learn>=1.0->ezyrb==1.3.0) (1.2.0)\n",
      "Requirement already satisfied: threadpoolctl>=2.0.0 in /home/giova/.local/lib/python3.10/site-packages (from scikit-learn>=1.0->ezyrb==1.3.0) (3.1.0)\n",
      "Requirement already satisfied: contourpy>=1.0.1 in /home/giova/.local/lib/python3.10/site-packages (from matplotlib->ezyrb==1.3.0) (1.0.6)\n",
      "Requirement already satisfied: cycler>=0.10 in /home/giova/.local/lib/python3.10/site-packages (from matplotlib->ezyrb==1.3.0) (0.11.0)\n",
      "Requirement already satisfied: fonttools>=4.22.0 in /home/giova/.local/lib/python3.10/site-packages (from matplotlib->ezyrb==1.3.0) (4.29.1)\n",
      "Requirement already satisfied: kiwisolver>=1.0.1 in /home/giova/.local/lib/python3.10/site-packages (from matplotlib->ezyrb==1.3.0) (1.3.2)\n",
      "Requirement already satisfied: packaging>=20.0 in /home/giova/miniconda3/envs/3.10/lib/python3.10/site-packages (from matplotlib->ezyrb==1.3.0) (23.1)\n",
      "Requirement already satisfied: pillow>=6.2.0 in /home/giova/miniconda3/envs/3.10/lib/python3.10/site-packages (from matplotlib->ezyrb==1.3.0) (9.5.0)\n",
      "Requirement already satisfied: pyparsing>=2.2.1 in /home/giova/miniconda3/envs/3.10/lib/python3.10/site-packages (from matplotlib->ezyrb==1.3.0) (3.1.1)\n",
      "Requirement already satisfied: python-dateutil>=2.7 in /home/giova/miniconda3/envs/3.10/lib/python3.10/site-packages (from matplotlib->ezyrb==1.3.0) (2.8.2)\n",
      "Requirement already satisfied: filelock in /home/giova/miniconda3/envs/3.10/lib/python3.10/site-packages (from torch->ezyrb==1.3.0) (3.13.1)\n",
      "Requirement already satisfied: typing-extensions in /home/giova/miniconda3/envs/3.10/lib/python3.10/site-packages (from torch->ezyrb==1.3.0) (4.7.1)\n",
      "Requirement already satisfied: sympy in /home/giova/.local/lib/python3.10/site-packages (from torch->ezyrb==1.3.0) (1.9)\n",
      "Requirement already satisfied: networkx in /home/giova/.local/lib/python3.10/site-packages (from torch->ezyrb==1.3.0) (3.0)\n",
      "Requirement already satisfied: jinja2 in /home/giova/miniconda3/envs/3.10/lib/python3.10/site-packages (from torch->ezyrb==1.3.0) (3.1.2)\n",
      "Requirement already satisfied: nvidia-cuda-nvrtc-cu11==11.7.99 in /home/giova/.local/lib/python3.10/site-packages (from torch->ezyrb==1.3.0) (11.7.99)\n",
      "Requirement already satisfied: nvidia-cuda-runtime-cu11==11.7.99 in /home/giova/.local/lib/python3.10/site-packages (from torch->ezyrb==1.3.0) (11.7.99)\n",
      "Requirement already satisfied: nvidia-cuda-cupti-cu11==11.7.101 in /home/giova/.local/lib/python3.10/site-packages (from torch->ezyrb==1.3.0) (11.7.101)\n",
      "Requirement already satisfied: nvidia-cudnn-cu11==8.5.0.96 in /home/giova/.local/lib/python3.10/site-packages (from torch->ezyrb==1.3.0) (8.5.0.96)\n",
      "Requirement already satisfied: nvidia-cublas-cu11==11.10.3.66 in /home/giova/.local/lib/python3.10/site-packages (from torch->ezyrb==1.3.0) (11.10.3.66)\n",
      "Requirement already satisfied: nvidia-cufft-cu11==10.9.0.58 in /home/giova/.local/lib/python3.10/site-packages (from torch->ezyrb==1.3.0) (10.9.0.58)\n",
      "Requirement already satisfied: nvidia-curand-cu11==10.2.10.91 in /home/giova/.local/lib/python3.10/site-packages (from torch->ezyrb==1.3.0) (10.2.10.91)\n",
      "Requirement already satisfied: nvidia-cusolver-cu11==11.4.0.1 in /home/giova/.local/lib/python3.10/site-packages (from torch->ezyrb==1.3.0) (11.4.0.1)\n",
      "Requirement already satisfied: nvidia-cusparse-cu11==11.7.4.91 in /home/giova/.local/lib/python3.10/site-packages (from torch->ezyrb==1.3.0) (11.7.4.91)\n",
      "Requirement already satisfied: nvidia-nccl-cu11==2.14.3 in /home/giova/.local/lib/python3.10/site-packages (from torch->ezyrb==1.3.0) (2.14.3)\n",
      "Requirement already satisfied: nvidia-nvtx-cu11==11.7.91 in /home/giova/.local/lib/python3.10/site-packages (from torch->ezyrb==1.3.0) (11.7.91)\n",
      "Requirement already satisfied: triton==2.0.0 in /home/giova/.local/lib/python3.10/site-packages (from torch->ezyrb==1.3.0) (2.0.0)\n",
      "Requirement already satisfied: setuptools in /home/giova/miniconda3/envs/3.10/lib/python3.10/site-packages (from nvidia-cublas-cu11==11.10.3.66->torch->ezyrb==1.3.0) (68.2.2)\n",
      "Requirement already satisfied: wheel in /home/giova/miniconda3/envs/3.10/lib/python3.10/site-packages (from nvidia-cublas-cu11==11.10.3.66->torch->ezyrb==1.3.0) (0.38.4)\n",
      "Requirement already satisfied: cmake in /home/giova/.local/lib/python3.10/site-packages (from triton==2.0.0->torch->ezyrb==1.3.0) (3.26.1)\n",
      "Requirement already satisfied: lit in /home/giova/miniconda3/envs/3.10/lib/python3.10/site-packages (from triton==2.0.0->torch->ezyrb==1.3.0) (17.0.5)\n",
      "Requirement already satisfied: six>=1.5 in /home/giova/miniconda3/envs/3.10/lib/python3.10/site-packages (from python-dateutil>=2.7->matplotlib->ezyrb==1.3.0) (1.16.0)\n",
      "Requirement already satisfied: MarkupSafe>=2.0 in /home/giova/miniconda3/envs/3.10/lib/python3.10/site-packages (from jinja2->torch->ezyrb==1.3.0) (2.1.1)\n",
      "Requirement already satisfied: mpmath>=0.19 in /home/giova/.local/lib/python3.10/site-packages (from sympy->torch->ezyrb==1.3.0) (1.2.1)\n"
     ]
    }
   ],
   "source": [
    "!pip install git+https://github.com/mathLab/EZyRB\n",
    "![ ! -d \"data\" ] && mkdir data && wget -P data https://github.com/giovastabile/roma_phd_course_exercises/raw/master/LESSON_1/data/tut1_coord.npy && wget -P data https://github.com/giovastabile/roma_phd_course_exercises/raw/master/LESSON_1/data/tut1_mu.npy && wget -P data https://github.com/giovastabile/roma_phd_course_exercises/raw/master/LESSON_1/data/tut1_snapshots.npy && wget -P data https://github.com/giovastabile/roma_phd_course_exercises/raw/master/LESSON_1/data/tut1_triangles.npy"
   ]
  },
  {
   "cell_type": "code",
   "execution_count": null,
   "metadata": {},
   "outputs": [],
   "source": [
    "import numpy as np\n",
    "import matplotlib.tri as mtri\n",
    "import matplotlib.pyplot as plt\n",
    "import sys\n",
    "from ezyrb import POD, RBF, Database\n",
    "from ezyrb import ReducedOrderModel as ROM\n",
    "np.set_printoptions(threshold=sys.maxsize)"
   ]
  },
  {
   "cell_type": "code",
   "execution_count": null,
   "metadata": {},
   "outputs": [],
   "source": [
    "snapshots = np.load('data/tut1_snapshots.npy')\n",
    "param = np.load('data/tut1_mu.npy')\n",
    "print(snapshots[0].shape)\n",
    "print(param)\n",
    "\n",
    "tri = np.load('data/tut1_triangles.npy')\n",
    "coord = np.load('data/tut1_coord.npy')\n",
    "triang = mtri.Triangulation(coord[0],coord[1],tri)\n",
    "\n",
    "fig, ax = plt.subplots(nrows=2, ncols=4, figsize=(16, 6), sharey=True, sharex=True)\n",
    "ax = ax.flatten()\n",
    "for i in range(8):\n",
    "    ax[i].triplot(triang, 'b-', lw=0.1)\n",
    "    cm = ax[i].tripcolor(triang, snapshots[i])\n",
    "    fig.colorbar(cm, ax=ax[i])\n",
    "    ax[i].set_title('($\\mu_0={:5.2f}, \\mu_1={:5.2f})$'.format(*param[i]))\n",
    "    \n",
    "plt.show()"
   ]
  },
  {
   "cell_type": "code",
   "execution_count": null,
   "metadata": {},
   "outputs": [],
   "source": [
    "# First of all, we create a `Database` object from the parameters and the snapshots.\n",
    "db = Database(param, snapshots)\n",
    "\n",
    "\n",
    "# Then we need a reduction object. In this case we use the proper orthogonal decomposition so we create a `POD` object. We use here all the default parameters, but for the complete list of available arguments we refer to original documentation of [POD](https://mathlab.github.io/EZyRB/pod.html) class.\n",
    "pod = POD('svd')\n",
    "#pod = POD('correlation_matrix', rank=8, save_memory=False)\n",
    "pod = POD().fit(snapshots.T)\n",
    "print(\"Printing POD singular values\")\n",
    "print(pod.singular_values)\n",
    "print(pod.singular_values.size)\n",
    "pod_modes = np.copy(pod.modes)\n",
    "print(pod_modes.shape)\n",
    "pod_modes.reshape(304,8)\n",
    "print(pod_modes.shape)\n",
    "pod_modes=pod_modes.T\n",
    "print(pod_modes.shape)\n",
    "print(pod_modes[0].shape)\n",
    "\n",
    "fig2, ax2 = plt.subplots(nrows=2, ncols=4, figsize=(16, 6), sharey=True, sharex=True)\n",
    "ax2 = ax2.flatten()\n",
    "for i in range(8):\n",
    "    ax2[i].triplot(triang, 'b-', lw=0.1)\n",
    "    cm2 = ax2[i].tripcolor(triang, pod_modes[i])\n",
    "    fig2.colorbar(cm2, ax=ax2[i])\n",
    "    ax2[i].set_title('Mode '+str(i))\n",
    "    \n",
    "\n",
    "plt.show()\n",
    "\n",
    "\n",
    "fig3, ax3 = plt.subplots(nrows=1, ncols=1, figsize=(6, 6), sharey=True, sharex=True)\n",
    "ax3.semilogy(pod.singular_values,'-*')\n",
    "ax3.grid()\n",
    "plt.show()"
   ]
  }
 ],
 "metadata": {
  "kernelspec": {
   "display_name": "Python 3",
   "language": "python",
   "name": "python3"
  },
  "language_info": {
   "codemirror_mode": {
    "name": "ipython",
    "version": 3
   },
   "file_extension": ".py",
   "mimetype": "text/x-python",
   "name": "python",
   "nbconvert_exporter": "python",
   "pygments_lexer": "ipython3",
   "version": "3.10.13"
  }
 },
 "nbformat": 4,
 "nbformat_minor": 2
}
