{
 "cells": [
  {
   "cell_type": "code",
   "execution_count": null,
   "metadata": {},
   "outputs": [],
   "source": [
    "!pip install git+https://github.com/mathLab/EZyRB\n",
    "!mkdir data\n",
    "!wget -P data https://github.com/giovastabile/roma_phd_course_exercises/tree/master/LESSON_1/data/tut1_coord.npy\n",
    "!wget -P data https://github.com/giovastabile/roma_phd_course_exercises/tree/master/LESSON_1/data/tut1_mu.npy\n",
    "!wget -P data https://github.com/giovastabile/roma_phd_course_exercises/tree/master/LESSON_1/data/tut1_snapshots.npy\n",
    "!wget -P data https://github.com/giovastabile/roma_phd_course_exercises/tree/master/LESSON_1/data/tut1_triangles.npy"
   ]
  },
  {
   "cell_type": "code",
   "execution_count": null,
   "metadata": {},
   "outputs": [],
   "source": [
    "import numpy as np\n",
    "import matplotlib.tri as mtri\n",
    "import matplotlib.pyplot as plt\n",
    "import sys\n",
    "from ezyrb import POD, RBF, Database\n",
    "from ezyrb import ReducedOrderModel as ROM\n",
    "np.set_printoptions(threshold=sys.maxsize)"
   ]
  },
  {
   "cell_type": "code",
   "execution_count": null,
   "metadata": {},
   "outputs": [],
   "source": [
    "snapshots = np.load('data/tut1_snapshots.npy')\n",
    "param = np.load('data/tut1_mu.npy')\n",
    "print(snapshots[0].shape)\n",
    "print(param)\n",
    "\n",
    "tri = np.load('data/tut1_triangles.npy')\n",
    "coord = np.load('data/tut1_coord.npy')\n",
    "triang = mtri.Triangulation(coord[0],coord[1],tri)\n",
    "\n",
    "fig, ax = plt.subplots(nrows=2, ncols=4, figsize=(16, 6), sharey=True, sharex=True)\n",
    "ax = ax.flatten()\n",
    "for i in range(8):\n",
    "    ax[i].triplot(triang, 'b-', lw=0.1)\n",
    "    cm = ax[i].tripcolor(triang, snapshots[i])\n",
    "    fig.colorbar(cm, ax=ax[i])\n",
    "    ax[i].set_title('($\\mu_0={:5.2f}, \\mu_1={:5.2f})$'.format(*param[i]))\n",
    "    \n",
    "plt.show()"
   ]
  },
  {
   "cell_type": "code",
   "execution_count": null,
   "metadata": {},
   "outputs": [],
   "source": [
    "# First of all, we create a `Database` object from the parameters and the snapshots.\n",
    "db = Database(param, snapshots)\n",
    "\n",
    "\n",
    "# Then we need a reduction object. In this case we use the proper orthogonal decomposition so we create a `POD` object. We use here all the default parameters, but for the complete list of available arguments we refer to original documentation of [POD](https://mathlab.github.io/EZyRB/pod.html) class.\n",
    "pod = POD('svd')\n",
    "#pod = POD('correlation_matrix', rank=8, save_memory=False)\n",
    "pod = POD().fit(snapshots.T)\n",
    "print(\"Printing POD singular values\")\n",
    "print(pod.singular_values)\n",
    "print(pod.singular_values.size)\n",
    "pod_modes = np.copy(pod.modes)\n",
    "print(pod_modes.shape)\n",
    "pod_modes.reshape(304,8)\n",
    "print(pod_modes.shape)\n",
    "pod_modes=pod_modes.T\n",
    "print(pod_modes.shape)\n",
    "print(pod_modes[0].shape)\n",
    "\n",
    "fig2, ax2 = plt.subplots(nrows=2, ncols=4, figsize=(16, 6), sharey=True, sharex=True)\n",
    "ax2 = ax2.flatten()\n",
    "for i in range(8):\n",
    "    ax2[i].triplot(triang, 'b-', lw=0.1)\n",
    "    cm2 = ax2[i].tripcolor(triang, pod_modes[i])\n",
    "    fig2.colorbar(cm2, ax=ax2[i])\n",
    "    ax2[i].set_title('Mode '+str(i))\n",
    "    \n",
    "\n",
    "plt.show()\n",
    "\n",
    "\n",
    "fig3, ax3 = plt.subplots(nrows=1, ncols=1, figsize=(6, 6), sharey=True, sharex=True)\n",
    "ax3.semilogy(pod.singular_values,'-*')\n",
    "ax3.grid()\n",
    "plt.show()"
   ]
  }
 ],
 "metadata": {
  "kernelspec": {
   "display_name": "Python 3",
   "language": "python",
   "name": "python3"
  },
  "language_info": {
   "codemirror_mode": {
    "name": "ipython",
    "version": 3
   },
   "file_extension": ".py",
   "mimetype": "text/x-python",
   "name": "python",
   "nbconvert_exporter": "python",
   "pygments_lexer": "ipython3",
   "version": "3.10.13"
  }
 },
 "nbformat": 4,
 "nbformat_minor": 2
}
