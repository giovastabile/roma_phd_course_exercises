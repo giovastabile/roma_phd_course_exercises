{
 "cells": [
  {
   "cell_type": "code",
   "execution_count": null,
   "metadata": {},
   "outputs": [],
   "source": [
    "!pip install git+https://github.com/mathLab/EZyRB\n",
    "!mkdir data\n",
    "!wget -P data https://github.com/giovastabile/roma_phd_course_exercises/tree/master/LESSON_1/data/tut1_coord.npy\n",
    "!wget -P data https://github.com/giovastabile/roma_phd_course_exercises/tree/master/LESSON_1/data/tut1_mu.npy\n",
    "!wget -P data https://github.com/giovastabile/roma_phd_course_exercises/tree/master/LESSON_1/data/tut1_snapshots.npy\n",
    "!wget -P data https://github.com/giovastabile/roma_phd_course_exercises/tree/master/LESSON_1/data/tut1_triangles.npy"
   ]
  },
  {
   "cell_type": "code",
   "execution_count": null,
   "metadata": {},
   "outputs": [],
   "source": [
    "import numpy as np\n",
    "import matplotlib.tri as mtri\n",
    "import matplotlib.pyplot as plt\n",
    "import sys\n",
    "import numpy.linalg as LA\n",
    "\n",
    "from ezyrb import POD, RBF, Database\n",
    "from ezyrb import ReducedOrderModel as ROM\n",
    "\n",
    "np.set_printoptions(threshold=sys.maxsize)\n",
    "\n",
    "# we will print \n",
    "\n",
    "snapshots = np.load('data/tut1_snapshots.npy')\n",
    "param = np.load('data/tut1_mu.npy')\n",
    "print(snapshots[0].shape)\n",
    "print(param)\n",
    "\n",
    "tri = np.load('data/tut1_triangles.npy')\n",
    "coord = np.load('data/tut1_coord.npy')\n",
    "triang = mtri.Triangulation(coord[0],coord[1],tri)\n",
    "\n",
    "fig, ax = plt.subplots(nrows=2, ncols=4, figsize=(16, 6), sharey=True, sharex=True)\n",
    "ax = ax.flatten()\n",
    "for i in range(8):\n",
    "    ax[i].triplot(triang, 'b-', lw=0.1)\n",
    "    cm = ax[i].tripcolor(triang, snapshots[i])\n",
    "    fig.colorbar(cm, ax=ax[i])\n",
    "    ax[i].set_title('($\\mu_0={:5.2f}, \\mu_1={:5.2f})$'.format(*param[i]))\n",
    "    \n",
    "plt.show()"
   ]
  },
  {
   "cell_type": "code",
   "execution_count": null,
   "metadata": {},
   "outputs": [],
   "source": [
    "snapshots =snapshots.T\n",
    "snapshots = np.random.rand(snapshots.shape[0],snapshots.shape[1])\n",
    "\n",
    "print(\"Printing snapshots: \")\n",
    "print(snapshots)\n",
    "\n",
    "print(\"Snapshot matrix shape: \",snapshots.shape)\n",
    "\n",
    "U,S,Vh = LA.svd(snapshots)\n",
    "\n",
    "print(\"U matrix shape: \", U.shape)\n",
    "print(\"S matrix shape: \", S.shape)\n",
    "print(\"Vh matrix shape: \", Vh.shape)\n",
    "\n",
    "plt.semilogy(S)\n",
    "plt.grid()\n",
    "plt.show()\n",
    "\n",
    "n=7\n",
    "print(U[:,0:n].shape)\n",
    "snapshot_approx = U[:,0:n]@np.diag(S[0:n])@Vh[0:n,:]\n",
    "print(snapshot_approx.shape)\n",
    "\n",
    "print(\"Snapshots reconstruction error using \", n,\" modes: \", LA.norm(snapshots-snapshot_approx))\n",
    "print(\"Cumulative norm of the singular values from\", n+1,\" to \", Vh.shape[0],\":\" ,LA.norm(S[n:-1]))\n",
    "print(\"Difference \", n,\" modes: \", LA.norm(S[n:-1])-LA.norm(snapshots-snapshot_approx))\n",
    "print('Machine precision: ', sys.float_info.epsilon)\n",
    "print(\"Relative reconstruction error: \", LA.norm(snapshots-snapshot_approx)/LA.norm(snapshots))\n",
    "\n",
    "\n"
   ]
  }
 ],
 "metadata": {
  "language_info": {
   "name": "python"
  }
 },
 "nbformat": 4,
 "nbformat_minor": 2
}
