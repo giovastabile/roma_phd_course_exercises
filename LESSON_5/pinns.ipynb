{
  "cells": [
    {
      "cell_type": "markdown",
      "id": "6f71ca5c",
      "metadata": {
        "id": "6f71ca5c"
      },
      "source": [
        "# Tutorial: Physics Informed Neural Networks on PINA\n",
        "\n",
        "[![Open In Colab](https://colab.research.google.com/assets/colab-badge.svg)](https://colab.research.google.com/github/mathLab/PINA/blob/master/tutorials/tutorial1/tutorial.ipynb)\n"
      ]
    },
    {
      "cell_type": "markdown",
      "id": "ef4949c9",
      "metadata": {
        "id": "ef4949c9"
      },
      "source": [
        "In this tutorial, we will demonstrate a typical use case of **PINA** on a toy problem, following the standard API procedure.\n",
        "\n",
        "<p align=\"center\">\n",
        "    <img src=\"https://github.com/mathLab/PINA/blob/master/readme/API_color.png?raw=1\" alt=\"PINA API\" width=\"400\"/>\n",
        "</p>\n",
        "\n",
        "Specifically, the tutorial aims to introduce the following topics:\n",
        "\n",
        "* Explaining how to build **PINA** Problems,\n",
        "* Showing how to generate data for `PINN` training\n",
        "\n",
        "These are the two main steps needed **before** starting the modelling optimization (choose model and solver, and train). We will show each step in detail, and at the end, we will solve a simple Ordinary Differential Equation (ODE) problem using the `PINN` solver."
      ]
    },
    {
      "cell_type": "markdown",
      "id": "cf9c96e3",
      "metadata": {
        "id": "cf9c96e3"
      },
      "source": [
        "## Build a PINA problem"
      ]
    },
    {
      "cell_type": "markdown",
      "id": "8a819659",
      "metadata": {
        "id": "8a819659"
      },
      "source": [
        "Problem definition in the **PINA** framework is done by building a python `class`, which inherits from one or more problem classes (`SpatialProblem`, `TimeDependentProblem`, `ParametricProblem`, ...) depending on the nature of the problem. Below is an example:\n",
        "### Simple Ordinary Differential Equation\n",
        "Consider the following:\n",
        "\n",
        "$$\n",
        "\\begin{equation}\n",
        "\\begin{cases}\n",
        "\\frac{d}{dx}u(x) &=  u(x) \\quad x\\in(0,1)\\\\\n",
        "u(x=0) &= 1 \\\\\n",
        "\\end{cases}\n",
        "\\end{equation}\n",
        "$$\n",
        "\n",
        "with the analytical solution $u(x) = e^x$. In this case, our ODE depends only on the spatial variable $x\\in(0,1)$ , meaning that our `Problem` class is going to be inherited from the `SpatialProblem` class:\n",
        "\n",
        "```python\n",
        "from pina.problem import SpatialProblem\n",
        "from pina.geometry import CartesianProblem\n",
        "\n",
        "class SimpleODE(SpatialProblem):\n",
        "    \n",
        "    output_variables = ['u']\n",
        "    spatial_domain = CartesianProblem({'x': [0, 1]})\n",
        "\n",
        "    # other stuff ...\n",
        "```\n",
        "\n",
        "Notice that we define `output_variables` as a list of symbols, indicating the output variables of our equation (in this case only $u$), this is done because in **PINA** the `torch.Tensor`s are labelled, allowing the user maximal flexibility for the manipulation of the tensor. The `spatial_domain` variable indicates where the sample points are going to be sampled in the domain, in this case $x\\in[0,1]$.\n",
        "\n",
        "What if our equation is also time-dependent? In this case, our `class` will inherit from both `SpatialProblem` and `TimeDependentProblem`:\n"
      ]
    },
    {
      "cell_type": "code",
      "execution_count": null,
      "id": "2373a925",
      "metadata": {
        "colab": {
          "base_uri": "https://localhost:8080/"
        },
        "id": "2373a925",
        "outputId": "c1d6a9af-a75f-4519-e3aa-8b2e8c76e50e"
      },
      "outputs": [],
      "source": [
        "## routine needed to run the notebook on Google Colab\n",
        "try:\n",
        "  import google.colab\n",
        "  IN_COLAB = True\n",
        "except:\n",
        "  IN_COLAB = False\n",
        "if IN_COLAB:\n",
        "  !pip install \"pina-mathlab\"\n",
        "\n",
        "from pina.problem import SpatialProblem, TimeDependentProblem\n",
        "from pina.geometry import CartesianDomain\n",
        "\n",
        "class TimeSpaceODE(SpatialProblem, TimeDependentProblem):\n",
        "\n",
        "    output_variables = ['u']\n",
        "    spatial_domain = CartesianDomain({'x': [0, 1]})\n",
        "    temporal_domain = CartesianDomain({'t': [0, 1]})\n",
        "\n",
        "    # other stuff ..."
      ]
    },
    {
      "cell_type": "markdown",
      "id": "ad8566b8",
      "metadata": {
        "id": "ad8566b8"
      },
      "source": [
        "where we have included the `temporal_domain` variable, indicating the time domain wanted for the solution.\n",
        "\n",
        "In summary, using **PINA**, we can initialize a problem with a class which inherits from different base classes: `SpatialProblem`, `TimeDependentProblem`, `ParametricProblem`, and so on depending on the type of problem we are considering. Here are some examples (more on the official documentation):\n",
        "* ``SpatialProblem`` $\\rightarrow$ a differential equation with spatial variable(s) ``spatial_domain``\n",
        "* ``TimeDependentProblem`` $\\rightarrow$ a time-dependent differential equation with temporal variable(s) ``temporal_domain``\n",
        "* ``ParametricProblem`` $\\rightarrow$ a parametrized differential equation with parametric variable(s) ``parameter_domain``\n",
        "* ``AbstractProblem`` $\\rightarrow$ any **PINA** problem inherits from here"
      ]
    },
    {
      "cell_type": "markdown",
      "id": "592a4c43",
      "metadata": {
        "id": "592a4c43"
      },
      "source": [
        "### Write the problem class\n",
        "\n",
        "Once the `Problem` class is initialized, we need to represent the differential equation in **PINA**. In order to do this, we need to load the **PINA** operators from `pina.operators` module. Again, we'll consider Equation (1) and represent it in **PINA**:"
      ]
    },
    {
      "cell_type": "code",
      "execution_count": null,
      "id": "f2608e2e",
      "metadata": {
        "id": "f2608e2e"
      },
      "outputs": [],
      "source": [
        "from pina.problem import SpatialProblem\n",
        "from pina.operators import grad\n",
        "from pina import Condition\n",
        "from pina.geometry import CartesianDomain\n",
        "from pina.equation import Equation, FixedValue\n",
        "\n",
        "import torch\n",
        "\n",
        "\n",
        "class SimpleODE(SpatialProblem):\n",
        "\n",
        "    output_variables = ['u']\n",
        "    spatial_domain = CartesianDomain({'x': [0, 1]})\n",
        "\n",
        "    # defining the ode equation\n",
        "    def ode_equation(input_, output_):\n",
        "\n",
        "        # computing the derivative\n",
        "        u_x = grad(output_, input_, components=['u'], d=['x'])\n",
        "\n",
        "        # extracting the u input variable\n",
        "        u = output_.extract(['u'])\n",
        "\n",
        "        # calculate the residual and return it\n",
        "        return u_x - u\n",
        "\n",
        "    # conditions to hold\n",
        "    conditions = {\n",
        "        'x0': Condition(location=CartesianDomain({'x': 0.}), equation=FixedValue(1)),             # We fix initial condition to value 1\n",
        "        'D': Condition(location=CartesianDomain({'x': [0, 1]}), equation=Equation(ode_equation)), # We wrap the python equation using Equation\n",
        "    }\n",
        "\n",
        "    # sampled points (see below)\n",
        "    input_pts = None\n",
        "\n",
        "    # defining the true solution\n",
        "    def truth_solution(self, pts):\n",
        "        return torch.exp(pts.extract(['x']))\n",
        "\n",
        "problem = SimpleODE()"
      ]
    },
    {
      "cell_type": "markdown",
      "id": "7cf64d01",
      "metadata": {
        "id": "7cf64d01"
      },
      "source": [
        "After we define the `Problem` class, we need to write different class methods, where each method is a function returning a residual. These functions are the ones minimized during PINN optimization, given the initial conditions. For example, in the domain $[0,1]$, the ODE equation (`ode_equation`) must be satisfied. We represent this by returning the difference between subtracting the variable `u` from its gradient (the residual), which we hope to minimize to 0. This is done for all conditions. Notice that we do not pass directly a `python` function, but an `Equation` object, which is initialized with the `python` function. This is done so that all the computations and internal checks are done inside **PINA**.\n",
        "\n",
        "Once we have defined the function, we need to tell the neural network where these methods are to be applied. To do so, we use the `Condition` class. In the `Condition` class, we pass the location points and the equation we want minimized on those points (other possibilities are allowed, see the documentation for reference).\n",
        "\n",
        "Finally, it's possible to define a `truth_solution` function, which can be useful if we want to plot the results and see how the real solution compares to the expected (true) solution. Notice that the `truth_solution` function is a method of the `PINN` class, but it is not mandatory for problem definition.\n"
      ]
    },
    {
      "cell_type": "markdown",
      "id": "78b30f95",
      "metadata": {
        "id": "78b30f95"
      },
      "source": [
        "## Generate data\n",
        "\n",
        "Data for training can come in form of direct numerical simulation results, or points in the domains. In case we perform unsupervised learning, we just need the collocation points for training, i.e. points where we want to evaluate the neural network. Sampling point in **PINA** is very easy, here we show three examples using the `.discretise_domain` method of the `AbstractProblem` class."
      ]
    },
    {
      "cell_type": "code",
      "execution_count": null,
      "id": "09ce5c3a",
      "metadata": {
        "id": "09ce5c3a"
      },
      "outputs": [],
      "source": [
        "# sampling 20 points in [0, 1] through discretization in all locations\n",
        "problem.discretise_domain(n=20, mode='grid', variables=['x'], locations='all')\n",
        "\n",
        "# sampling 20 points in (0, 1) through latin hypercube sampling in D, and 1 point in x0\n",
        "problem.discretise_domain(n=20, mode='latin', variables=['x'], locations=['D'])\n",
        "problem.discretise_domain(n=1, mode='random', variables=['x'], locations=['x0'])\n",
        "\n",
        "# sampling 20 points in (0, 1) randomly\n",
        "problem.discretise_domain(n=20, mode='random', variables=['x'])"
      ]
    },
    {
      "cell_type": "markdown",
      "id": "8fbb679f",
      "metadata": {
        "id": "8fbb679f"
      },
      "source": [
        "We are going to use latin hypercube points for sampling. We need to sample in all the conditions domains. In our case we sample in `D` and `x0`."
      ]
    },
    {
      "cell_type": "code",
      "execution_count": null,
      "id": "329962b6",
      "metadata": {
        "id": "329962b6"
      },
      "outputs": [],
      "source": [
        "# sampling for training\n",
        "problem.discretise_domain(1, 'random', locations=['x0'])\n",
        "problem.discretise_domain(20, 'lh', locations=['D'])"
      ]
    },
    {
      "cell_type": "markdown",
      "id": "ca2ac5c2",
      "metadata": {
        "id": "ca2ac5c2"
      },
      "source": [
        "The points are saved in a python `dict`, and can be accessed by calling the attribute `input_pts` of the problem"
      ]
    },
    {
      "cell_type": "code",
      "execution_count": null,
      "id": "d6ed9aaf",
      "metadata": {
        "colab": {
          "base_uri": "https://localhost:8080/"
        },
        "id": "d6ed9aaf",
        "outputId": "eaf88416-f653-45b1-8874-99a0f09ff1c1"
      },
      "outputs": [],
      "source": [
        "print('Input points:', problem.input_pts)\n",
        "print('Input points labels:', problem.input_pts['D'].labels)"
      ]
    },
    {
      "cell_type": "markdown",
      "id": "669e8534",
      "metadata": {
        "id": "669e8534"
      },
      "source": [
        "To visualize the sampled points we can use the `.plot_samples` method of the `Plotter` class"
      ]
    },
    {
      "cell_type": "code",
      "execution_count": null,
      "id": "33cc80bc",
      "metadata": {
        "colab": {
          "base_uri": "https://localhost:8080/",
          "height": 449
        },
        "id": "33cc80bc",
        "outputId": "56e0e410-1fd1-4489-b405-ee6b402ee844"
      },
      "outputs": [],
      "source": [
        "from pina import Plotter\n",
        "\n",
        "pl = Plotter()\n",
        "pl.plot_samples(problem=problem)"
      ]
    },
    {
      "cell_type": "markdown",
      "id": "22e502dd",
      "metadata": {
        "id": "22e502dd"
      },
      "source": [
        "## Perform a small training"
      ]
    },
    {
      "cell_type": "markdown",
      "id": "075f43f5",
      "metadata": {
        "id": "075f43f5"
      },
      "source": [
        "Once we have defined the problem and generated the data we can start the modelling. Here we will choose a `FeedForward` neural network available in `pina.model`, and we will train using the `PINN` solver from `pina.solvers`. We highlight that this training is fairly simple, for more advanced stuff consider the tutorials in the ***Physics Informed Neural Networks*** section of ***Tutorials***. For training we use the `Trainer` class from `pina.trainer`. Here we show a very short training and some method for plotting the results. Notice that by default all relevant metrics (e.g. MSE error during training) are going to be tracked using a `lightining` logger, by default `CSVLogger`. If you want to track the metric by yourself without a logger, use `pina.callbacks.MetricTracker`."
      ]
    },
    {
      "cell_type": "code",
      "execution_count": null,
      "id": "3bb4dc9b",
      "metadata": {
        "colab": {
          "base_uri": "https://localhost:8080/",
          "height": 230,
          "referenced_widgets": [
            "125d6689ce314efda6fcedc349f49985",
            "b7773642896f4641845a418a857a90d6",
            "8b5c4c5b6fb6470e8ec249ffb2fb0721",
            "66b4866b415649f29ee07100394ff5da",
            "cc24c384b5e14cc6917f69dccc0c9ce8",
            "f2d37621570c4f1f83a907bf642e8e06",
            "9ef68133c4954904a3a3ffdabe461e54",
            "fea539332a3d4034bb68d9c21ac64d7a",
            "5c0d10eb982243f78e18d923b998380e",
            "d220c4b93fab4e578bb9e295a1c9903d",
            "3cf4d51fbf3f4ed58e14cf7356fd7b2b"
          ]
        },
        "id": "3bb4dc9b",
        "outputId": "bac114fc-c264-46eb-e05e-75121c3f9ef1"
      },
      "outputs": [],
      "source": [
        "from pina import Trainer\n",
        "from pina.solvers import PINN\n",
        "from pina.model import FeedForward\n",
        "from pina.callbacks import MetricTracker\n",
        "\n",
        "\n",
        "# build the model\n",
        "model = FeedForward(\n",
        "    layers=[10, 10],\n",
        "    func=torch.nn.Tanh,\n",
        "    output_dimensions=len(problem.output_variables),\n",
        "    input_dimensions=len(problem.input_variables)\n",
        ")\n",
        "\n",
        "# create the PINN object\n",
        "pinn = PINN(problem, model)\n",
        "\n",
        "# create the trainer\n",
        "trainer = Trainer(solver=pinn, max_epochs=1500, callbacks=[MetricTracker()], accelerator='cpu', enable_model_summary=False) # we train on CPU and avoid model summary at beginning of training (optional)\n",
        "\n",
        "# train\n",
        "trainer.train()"
      ]
    },
    {
      "cell_type": "markdown",
      "id": "f8b4f496",
      "metadata": {
        "id": "f8b4f496"
      },
      "source": [
        "After the training we can inspect trainer logged metrics (by default **PINA** logs mean square error residual loss). The logged metrics can be accessed online using one of the `Lightinig` loggers. The final loss can be accessed by `trainer.logged_metrics`"
      ]
    },
    {
      "cell_type": "code",
      "execution_count": null,
      "id": "f5fbf362",
      "metadata": {
        "colab": {
          "base_uri": "https://localhost:8080/"
        },
        "id": "f5fbf362",
        "outputId": "6f5cc4e4-544a-4bc6-f984-29c987782083"
      },
      "outputs": [],
      "source": [
        "# inspecting final loss\n",
        "trainer.logged_metrics"
      ]
    },
    {
      "cell_type": "markdown",
      "id": "0963d7d2",
      "metadata": {
        "id": "0963d7d2"
      },
      "source": [
        "By using the `Plotter` class from **PINA** we can also do some quatitative plots of the solution."
      ]
    },
    {
      "cell_type": "code",
      "execution_count": null,
      "id": "19078eb5",
      "metadata": {
        "colab": {
          "base_uri": "https://localhost:8080/",
          "height": 807
        },
        "id": "19078eb5",
        "outputId": "ac538716-409b-46aa-e604-ea33a34486e1"
      },
      "outputs": [],
      "source": [
        "# plotting the solution\n",
        "pl.plot(solver=pinn)"
      ]
    },
    {
      "cell_type": "markdown",
      "id": "bf47b98a",
      "metadata": {
        "id": "bf47b98a"
      },
      "source": [
        "The solution is overlapped with the actual one, and they are barely indistinguishable. We can also plot easily the loss:"
      ]
    },
    {
      "cell_type": "code",
      "execution_count": null,
      "id": "bf6211e6",
      "metadata": {
        "id": "bf6211e6",
        "outputId": "e1051a18-f59b-461f-960e-ef5b0681417d"
      },
      "outputs": [],
      "source": [
        "pl.plot_loss(trainer=trainer, label = 'mean_loss', logy=True)"
      ]
    },
    {
      "cell_type": "markdown",
      "id": "58172899",
      "metadata": {
        "id": "58172899"
      },
      "source": [
        "As we can see the loss has not reached a minimum, suggesting that we could train for longer"
      ]
    },
    {
      "cell_type": "markdown",
      "id": "33e672da",
      "metadata": {
        "id": "33e672da"
      },
      "source": [
        "## What's next?\n",
        "\n",
        "Congratulations on completing the introductory tutorial of **PINA**! There are several directions you can go now:\n",
        "\n",
        "1. Train the network for longer or with different layer sizes and assert the finaly accuracy\n",
        "\n",
        "2. Train the network using other types of models (see `pina.model`)\n",
        "\n",
        "3. GPU training and speed benchmarking\n",
        "\n",
        "4. Many more..."
      ]
    }
  ],
  "metadata": {
    "colab": {
      "provenance": []
    },
    "interpreter": {
      "hash": "aee8b7b246df8f9039afb4144a1f6fd8d2ca17a180786b69acc140d282b71a49"
    },
    "kernelspec": {
      "display_name": "Python 3 (ipykernel)",
      "language": "python",
      "name": "python3"
    },
    "language_info": {
      "codemirror_mode": {
        "name": "ipython",
        "version": 3
      },
      "file_extension": ".py",
      "mimetype": "text/x-python",
      "name": "python",
      "nbconvert_exporter": "python",
      "pygments_lexer": "ipython3",
      "version": "3.11.7"
    },
    "widgets": {
      "application/vnd.jupyter.widget-state+json": {
        "125d6689ce314efda6fcedc349f49985": {
          "model_module": "@jupyter-widgets/controls",
          "model_module_version": "1.5.0",
          "model_name": "HBoxModel",
          "state": {
            "_dom_classes": [],
            "_model_module": "@jupyter-widgets/controls",
            "_model_module_version": "1.5.0",
            "_model_name": "HBoxModel",
            "_view_count": null,
            "_view_module": "@jupyter-widgets/controls",
            "_view_module_version": "1.5.0",
            "_view_name": "HBoxView",
            "box_style": "",
            "children": [
              "IPY_MODEL_b7773642896f4641845a418a857a90d6",
              "IPY_MODEL_8b5c4c5b6fb6470e8ec249ffb2fb0721",
              "IPY_MODEL_66b4866b415649f29ee07100394ff5da"
            ],
            "layout": "IPY_MODEL_cc24c384b5e14cc6917f69dccc0c9ce8"
          }
        },
        "3cf4d51fbf3f4ed58e14cf7356fd7b2b": {
          "model_module": "@jupyter-widgets/controls",
          "model_module_version": "1.5.0",
          "model_name": "DescriptionStyleModel",
          "state": {
            "_model_module": "@jupyter-widgets/controls",
            "_model_module_version": "1.5.0",
            "_model_name": "DescriptionStyleModel",
            "_view_count": null,
            "_view_module": "@jupyter-widgets/base",
            "_view_module_version": "1.2.0",
            "_view_name": "StyleView",
            "description_width": ""
          }
        },
        "5c0d10eb982243f78e18d923b998380e": {
          "model_module": "@jupyter-widgets/controls",
          "model_module_version": "1.5.0",
          "model_name": "ProgressStyleModel",
          "state": {
            "_model_module": "@jupyter-widgets/controls",
            "_model_module_version": "1.5.0",
            "_model_name": "ProgressStyleModel",
            "_view_count": null,
            "_view_module": "@jupyter-widgets/base",
            "_view_module_version": "1.2.0",
            "_view_name": "StyleView",
            "bar_color": null,
            "description_width": ""
          }
        },
        "66b4866b415649f29ee07100394ff5da": {
          "model_module": "@jupyter-widgets/controls",
          "model_module_version": "1.5.0",
          "model_name": "HTMLModel",
          "state": {
            "_dom_classes": [],
            "_model_module": "@jupyter-widgets/controls",
            "_model_module_version": "1.5.0",
            "_model_name": "HTMLModel",
            "_view_count": null,
            "_view_module": "@jupyter-widgets/controls",
            "_view_module_version": "1.5.0",
            "_view_name": "HTMLView",
            "description": "",
            "description_tooltip": null,
            "layout": "IPY_MODEL_d220c4b93fab4e578bb9e295a1c9903d",
            "placeholder": "​",
            "style": "IPY_MODEL_3cf4d51fbf3f4ed58e14cf7356fd7b2b",
            "value": " 1/1 [00:00&lt;00:00, 20.41it/s, v_num=0, x0_loss=9.71e-7, D_loss=6.51e-5, mean_loss=3.3e-5]"
          }
        },
        "8b5c4c5b6fb6470e8ec249ffb2fb0721": {
          "model_module": "@jupyter-widgets/controls",
          "model_module_version": "1.5.0",
          "model_name": "FloatProgressModel",
          "state": {
            "_dom_classes": [],
            "_model_module": "@jupyter-widgets/controls",
            "_model_module_version": "1.5.0",
            "_model_name": "FloatProgressModel",
            "_view_count": null,
            "_view_module": "@jupyter-widgets/controls",
            "_view_module_version": "1.5.0",
            "_view_name": "ProgressView",
            "bar_style": "success",
            "description": "",
            "description_tooltip": null,
            "layout": "IPY_MODEL_fea539332a3d4034bb68d9c21ac64d7a",
            "max": 1,
            "min": 0,
            "orientation": "horizontal",
            "style": "IPY_MODEL_5c0d10eb982243f78e18d923b998380e",
            "value": 1
          }
        },
        "9ef68133c4954904a3a3ffdabe461e54": {
          "model_module": "@jupyter-widgets/controls",
          "model_module_version": "1.5.0",
          "model_name": "DescriptionStyleModel",
          "state": {
            "_model_module": "@jupyter-widgets/controls",
            "_model_module_version": "1.5.0",
            "_model_name": "DescriptionStyleModel",
            "_view_count": null,
            "_view_module": "@jupyter-widgets/base",
            "_view_module_version": "1.2.0",
            "_view_name": "StyleView",
            "description_width": ""
          }
        },
        "b7773642896f4641845a418a857a90d6": {
          "model_module": "@jupyter-widgets/controls",
          "model_module_version": "1.5.0",
          "model_name": "HTMLModel",
          "state": {
            "_dom_classes": [],
            "_model_module": "@jupyter-widgets/controls",
            "_model_module_version": "1.5.0",
            "_model_name": "HTMLModel",
            "_view_count": null,
            "_view_module": "@jupyter-widgets/controls",
            "_view_module_version": "1.5.0",
            "_view_name": "HTMLView",
            "description": "",
            "description_tooltip": null,
            "layout": "IPY_MODEL_f2d37621570c4f1f83a907bf642e8e06",
            "placeholder": "​",
            "style": "IPY_MODEL_9ef68133c4954904a3a3ffdabe461e54",
            "value": "Epoch 1499: 100%"
          }
        },
        "cc24c384b5e14cc6917f69dccc0c9ce8": {
          "model_module": "@jupyter-widgets/base",
          "model_module_version": "1.2.0",
          "model_name": "LayoutModel",
          "state": {
            "_model_module": "@jupyter-widgets/base",
            "_model_module_version": "1.2.0",
            "_model_name": "LayoutModel",
            "_view_count": null,
            "_view_module": "@jupyter-widgets/base",
            "_view_module_version": "1.2.0",
            "_view_name": "LayoutView",
            "align_content": null,
            "align_items": null,
            "align_self": null,
            "border": null,
            "bottom": null,
            "display": "inline-flex",
            "flex": null,
            "flex_flow": "row wrap",
            "grid_area": null,
            "grid_auto_columns": null,
            "grid_auto_flow": null,
            "grid_auto_rows": null,
            "grid_column": null,
            "grid_gap": null,
            "grid_row": null,
            "grid_template_areas": null,
            "grid_template_columns": null,
            "grid_template_rows": null,
            "height": null,
            "justify_content": null,
            "justify_items": null,
            "left": null,
            "margin": null,
            "max_height": null,
            "max_width": null,
            "min_height": null,
            "min_width": null,
            "object_fit": null,
            "object_position": null,
            "order": null,
            "overflow": null,
            "overflow_x": null,
            "overflow_y": null,
            "padding": null,
            "right": null,
            "top": null,
            "visibility": null,
            "width": "100%"
          }
        },
        "d220c4b93fab4e578bb9e295a1c9903d": {
          "model_module": "@jupyter-widgets/base",
          "model_module_version": "1.2.0",
          "model_name": "LayoutModel",
          "state": {
            "_model_module": "@jupyter-widgets/base",
            "_model_module_version": "1.2.0",
            "_model_name": "LayoutModel",
            "_view_count": null,
            "_view_module": "@jupyter-widgets/base",
            "_view_module_version": "1.2.0",
            "_view_name": "LayoutView",
            "align_content": null,
            "align_items": null,
            "align_self": null,
            "border": null,
            "bottom": null,
            "display": null,
            "flex": null,
            "flex_flow": null,
            "grid_area": null,
            "grid_auto_columns": null,
            "grid_auto_flow": null,
            "grid_auto_rows": null,
            "grid_column": null,
            "grid_gap": null,
            "grid_row": null,
            "grid_template_areas": null,
            "grid_template_columns": null,
            "grid_template_rows": null,
            "height": null,
            "justify_content": null,
            "justify_items": null,
            "left": null,
            "margin": null,
            "max_height": null,
            "max_width": null,
            "min_height": null,
            "min_width": null,
            "object_fit": null,
            "object_position": null,
            "order": null,
            "overflow": null,
            "overflow_x": null,
            "overflow_y": null,
            "padding": null,
            "right": null,
            "top": null,
            "visibility": null,
            "width": null
          }
        },
        "f2d37621570c4f1f83a907bf642e8e06": {
          "model_module": "@jupyter-widgets/base",
          "model_module_version": "1.2.0",
          "model_name": "LayoutModel",
          "state": {
            "_model_module": "@jupyter-widgets/base",
            "_model_module_version": "1.2.0",
            "_model_name": "LayoutModel",
            "_view_count": null,
            "_view_module": "@jupyter-widgets/base",
            "_view_module_version": "1.2.0",
            "_view_name": "LayoutView",
            "align_content": null,
            "align_items": null,
            "align_self": null,
            "border": null,
            "bottom": null,
            "display": null,
            "flex": null,
            "flex_flow": null,
            "grid_area": null,
            "grid_auto_columns": null,
            "grid_auto_flow": null,
            "grid_auto_rows": null,
            "grid_column": null,
            "grid_gap": null,
            "grid_row": null,
            "grid_template_areas": null,
            "grid_template_columns": null,
            "grid_template_rows": null,
            "height": null,
            "justify_content": null,
            "justify_items": null,
            "left": null,
            "margin": null,
            "max_height": null,
            "max_width": null,
            "min_height": null,
            "min_width": null,
            "object_fit": null,
            "object_position": null,
            "order": null,
            "overflow": null,
            "overflow_x": null,
            "overflow_y": null,
            "padding": null,
            "right": null,
            "top": null,
            "visibility": null,
            "width": null
          }
        },
        "fea539332a3d4034bb68d9c21ac64d7a": {
          "model_module": "@jupyter-widgets/base",
          "model_module_version": "1.2.0",
          "model_name": "LayoutModel",
          "state": {
            "_model_module": "@jupyter-widgets/base",
            "_model_module_version": "1.2.0",
            "_model_name": "LayoutModel",
            "_view_count": null,
            "_view_module": "@jupyter-widgets/base",
            "_view_module_version": "1.2.0",
            "_view_name": "LayoutView",
            "align_content": null,
            "align_items": null,
            "align_self": null,
            "border": null,
            "bottom": null,
            "display": null,
            "flex": "2",
            "flex_flow": null,
            "grid_area": null,
            "grid_auto_columns": null,
            "grid_auto_flow": null,
            "grid_auto_rows": null,
            "grid_column": null,
            "grid_gap": null,
            "grid_row": null,
            "grid_template_areas": null,
            "grid_template_columns": null,
            "grid_template_rows": null,
            "height": null,
            "justify_content": null,
            "justify_items": null,
            "left": null,
            "margin": null,
            "max_height": null,
            "max_width": null,
            "min_height": null,
            "min_width": null,
            "object_fit": null,
            "object_position": null,
            "order": null,
            "overflow": null,
            "overflow_x": null,
            "overflow_y": null,
            "padding": null,
            "right": null,
            "top": null,
            "visibility": null,
            "width": null
          }
        }
      }
    }
  },
  "nbformat": 4,
  "nbformat_minor": 5
}
